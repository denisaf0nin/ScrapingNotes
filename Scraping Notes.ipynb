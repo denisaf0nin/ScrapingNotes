{
 "cells": [
  {
   "cell_type": "markdown",
   "id": "3197adaa-591f-4bdd-afbe-74349ffc96c2",
   "metadata": {},
   "source": [
    "Notes on Scraping\n",
    "\n",
    "1. BeautifulSoup"
   ]
  },
  {
   "cell_type": "code",
   "execution_count": null,
   "id": "d1d506bc-49ae-46dc-96e0-3b8e005f806f",
   "metadata": {},
   "outputs": [],
   "source": [
    "import requests\n",
    "from bs4 import BeautifulSoup as bs\n",
    "\n",
    "url = \"url\"\n",
    "\n",
    "response = requests.get(url)\n",
    "response.status_code  # Get status code: 200 OK, 429 Too Many Requests etc.\n",
    "\n",
    "soup = bs(response.content, \"html.parser\")\n",
    "soup.prettify\n",
    "\n",
    "sections = soup.findAll('ul', {\"class\": \"trust-list\"})  # Returns a list. soup.find(...)  Returns a single soup object\n",
    "\n",
    "\n",
    "# Getting plain text\n",
    "short_description = soup.find('div', {'class': 'short-description'}).text.strip()\n",
    "\n",
    "\n",
    "# Getting list of links:\n",
    "links = {}\n",
    "for s in sections:\n",
    "    lines = s.findAll('a')\n",
    "    for l in lines:\n",
    "        links[l.text] = l['href']\n",
    "        "
   ]
  },
  {
   "cell_type": "code",
   "execution_count": null,
   "id": "1cfbd740-baff-4639-a765-42641d2f7b2f",
   "metadata": {},
   "outputs": [],
   "source": [
    "2. Selenium"
   ]
  },
  {
   "cell_type": "code",
   "execution_count": null,
   "id": "3d365e5b-446a-47be-9f9d-007b3650e595",
   "metadata": {},
   "outputs": [],
   "source": [
    "from selenium import webdriver\n",
    "from selenium.webdriver.common.keys import Keys\n",
    "from selenium.webdriver.support.ui import Select\n",
    "from selenium.common.exceptions import *\n",
    "\n",
    "# Need Chromedriver\n",
    "\n",
    "url = \"https://www.airtexasc.com/product-details?partkey=000799142\"\n",
    "driver.get(url)\n",
    "\n",
    "\n",
    "# Scroll to bottom\n",
    "driver.execute_script(\"window.scrollTo(0,document.body.scrollHeight)\")\n",
    "\n",
    "\n",
    "# Click element\n",
    "element = driver.find_element(By.XPATH, '//*[@id=\"sn-react-controlled-content\"]/div/div/main/div[1]/div[1]/div[2]/button')\n",
    "element.click()\n",
    "\n",
    "\n",
    "# Finding element/ elements:\n",
    "items = driver.find_element(By.CLASS_NAME , 'content-fluid' ).find_elements(By.XPATH, './/tr') \n",
    "\n",
    "\n",
    "# Getting Attribute:\n",
    "links = [x.get_attribute('href') for x in links]\n",
    "\n"
   ]
  },
  {
   "cell_type": "code",
   "execution_count": null,
   "id": "9f65b7b1-d558-40b1-92ab-5ff561db7ccd",
   "metadata": {},
   "outputs": [],
   "source": [
    "3. Writing to Pandas"
   ]
  },
  {
   "cell_type": "code",
   "execution_count": null,
   "id": "f6cd4b6b-1417-414d-8bfd-2f3630cb44f6",
   "metadata": {},
   "outputs": [],
   "source": [
    "cols = [\"Name\", \"Full Name\", \"Rating\", \"Position\", \"Nationality\", \"Club\", \"League\", \"Card Level\", \"Rare Type\",\n",
    "        \"Revision\", \"Special Image\", \"Card Full Description\"]\n",
    "df=pd.DataFrame(columns=cols)\n",
    "\n",
    "df = df.append(pd.Series(new_row, index=cols), ignore_index=True)"
   ]
  }
 ],
 "metadata": {
  "kernelspec": {
   "display_name": "Python 3 (ipykernel)",
   "language": "python",
   "name": "python3"
  },
  "language_info": {
   "codemirror_mode": {
    "name": "ipython",
    "version": 3
   },
   "file_extension": ".py",
   "mimetype": "text/x-python",
   "name": "python",
   "nbconvert_exporter": "python",
   "pygments_lexer": "ipython3",
   "version": "3.8.12"
  }
 },
 "nbformat": 4,
 "nbformat_minor": 5
}
